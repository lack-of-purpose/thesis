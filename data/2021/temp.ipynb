{
 "cells": [
  {
   "cell_type": "code",
   "execution_count": 1,
   "metadata": {},
   "outputs": [],
   "source": [
    "import pandas as pd\n",
    "\n",
    "column_names =['userId', 'sys', 'segId', 'Q', 'src', 'tgt', 'score', 'docId', 'whole_doc', 'start', 'end']\n",
    "wmt21 = pd.read_csv('wmt21.csv', names=column_names, header=None)"
   ]
  },
  {
   "cell_type": "code",
   "execution_count": 3,
   "metadata": {},
   "outputs": [],
   "source": [
    "en_cs = wmt21[(wmt21['Q']=='TGT')&(wmt21['src']=='eng')&(wmt21['tgt']=='ces')]\n",
    "en_cs.to_csv('eng_ces21.csv')\n",
    "\n",
    "en_ru = wmt21[(wmt21['Q']=='TGT')&(wmt21['src']=='eng')&(wmt21['tgt']=='rus')]\n",
    "en_ru.to_csv('eng_rus21.csv')"
   ]
  },
  {
   "cell_type": "code",
   "execution_count": 5,
   "metadata": {},
   "outputs": [],
   "source": [
    "df = pd.read_csv('eng_ces21.csv')"
   ]
  },
  {
   "cell_type": "code",
   "execution_count": 6,
   "metadata": {},
   "outputs": [],
   "source": [
    "filtered = df[df['score']>=98]\n",
    "filtered.to_csv('en_cs_21_98.csv')"
   ]
  },
  {
   "cell_type": "code",
   "execution_count": 8,
   "metadata": {},
   "outputs": [
    {
     "data": {
      "text/html": [
       "<div>\n",
       "<style scoped>\n",
       "    .dataframe tbody tr th:only-of-type {\n",
       "        vertical-align: middle;\n",
       "    }\n",
       "\n",
       "    .dataframe tbody tr th {\n",
       "        vertical-align: top;\n",
       "    }\n",
       "\n",
       "    .dataframe thead th {\n",
       "        text-align: right;\n",
       "    }\n",
       "</style>\n",
       "<table border=\"1\" class=\"dataframe\">\n",
       "  <thead>\n",
       "    <tr style=\"text-align: right;\">\n",
       "      <th></th>\n",
       "      <th>segment</th>\n",
       "      <th>document</th>\n",
       "    </tr>\n",
       "  </thead>\n",
       "  <tbody>\n",
       "    <tr>\n",
       "      <th>0</th>\n",
       "      <td>1</td>\n",
       "      <td>en.ndtv.com.75164</td>\n",
       "    </tr>\n",
       "    <tr>\n",
       "      <th>1</th>\n",
       "      <td>2</td>\n",
       "      <td>en.ndtv.com.75164</td>\n",
       "    </tr>\n",
       "    <tr>\n",
       "      <th>2</th>\n",
       "      <td>3</td>\n",
       "      <td>en.ndtv.com.75164</td>\n",
       "    </tr>\n",
       "    <tr>\n",
       "      <th>3</th>\n",
       "      <td>4</td>\n",
       "      <td>en.ndtv.com.75164</td>\n",
       "    </tr>\n",
       "    <tr>\n",
       "      <th>4</th>\n",
       "      <td>5</td>\n",
       "      <td>en.ndtv.com.75164</td>\n",
       "    </tr>\n",
       "  </tbody>\n",
       "</table>\n",
       "</div>"
      ],
      "text/plain": [
       "   segment           document\n",
       "0        1  en.ndtv.com.75164\n",
       "1        2  en.ndtv.com.75164\n",
       "2        3  en.ndtv.com.75164\n",
       "3        4  en.ndtv.com.75164\n",
       "4        5  en.ndtv.com.75164"
      ]
     },
     "execution_count": 8,
     "metadata": {},
     "output_type": "execute_result"
    }
   ],
   "source": [
    "meta = pd.read_csv('metadata/newstest2021.en-cs.csv', sep='\\t')\n",
    "meta.head()"
   ]
  },
  {
   "cell_type": "code",
   "execution_count": 13,
   "metadata": {},
   "outputs": [],
   "source": [
    "meta['num'] = range(1, len(meta) + 1)"
   ]
  },
  {
   "cell_type": "code",
   "execution_count": 9,
   "metadata": {},
   "outputs": [],
   "source": [
    "systems = filtered['sys'].unique()"
   ]
  },
  {
   "cell_type": "code",
   "execution_count": 11,
   "metadata": {},
   "outputs": [],
   "source": [
    "import os\n",
    "\n",
    "if not os.path.isdir('best-lines-21'):\n",
    "        os.mkdir('best-lines-21')"
   ]
  },
  {
   "cell_type": "code",
   "execution_count": 19,
   "metadata": {},
   "outputs": [],
   "source": [
    "all_best_lines = open('best-lines-21/all-best-lines-cs-21.txt', 'w')"
   ]
  },
  {
   "cell_type": "code",
   "execution_count": 22,
   "metadata": {},
   "outputs": [
    {
     "name": "stderr",
     "output_type": "stream",
     "text": [
      "C:\\Users\\10056409\\AppData\\Local\\Temp\\ipykernel_13436\\1698710042.py:1: SettingWithCopyWarning: \n",
      "A value is trying to be set on a copy of a slice from a DataFrame.\n",
      "Try using .loc[row_indexer,col_indexer] = value instead\n",
      "\n",
      "See the caveats in the documentation: https://pandas.pydata.org/pandas-docs/stable/user_guide/indexing.html#returning-a-view-versus-a-copy\n",
      "  filtered['segId'] = filtered['segId'].astype(str)\n"
     ]
    }
   ],
   "source": [
    "filtered['segId'] = filtered['segId'].astype(str)"
   ]
  },
  {
   "cell_type": "code",
   "execution_count": 23,
   "metadata": {},
   "outputs": [],
   "source": [
    "for sys in systems:\n",
    "    temp = filtered[filtered['sys']==sys]\n",
    "    docs = temp['docId'].unique()\n",
    "    doc_sent = {}\n",
    "    for doc in docs:\n",
    "        lines = set()\n",
    "        doc_lines = temp.loc[temp['docId'] == doc, 'segId']\n",
    "        doc_lines.columns =['n', 'idx']\n",
    "        doc_lines = doc_lines.to_frame()\n",
    "        for index, row in doc_lines.iterrows():\n",
    "            lines.add(row['segId'])\n",
    "        doc_sent[doc] = lines\n",
    "\n",
    "    for key in doc_sent.keys():\n",
    "        doc_sent[key] = list(doc_sent[key])\n",
    "    \n",
    "    valid_sentences = []\n",
    "    for key in doc_sent.keys():\n",
    "        for item in doc_sent[key]:\n",
    "            if not '-' in item and item != '0':\n",
    "                line = meta.loc[(meta['document'] == key) & (meta['segment'] == int(item))]['num']\n",
    "                valid_sentences.append(line._values[0])\n",
    "    sorted(valid_sentences)\n",
    "    \n",
    "    for sent in sorted(valid_sentences):\n",
    "        sent = str(sent) + ',' + sys\n",
    "        all_best_lines.write(\"%s\\n\" % sent)\n",
    "        \n",
    "all_best_lines.close()\n"
   ]
  },
  {
   "cell_type": "code",
   "execution_count": 29,
   "metadata": {},
   "outputs": [
    {
     "name": "stdout",
     "output_type": "stream",
     "text": [
      "992\n",
      "792\n"
     ]
    }
   ],
   "source": [
    "import random\n",
    "\n",
    "mt_final_dataset_lines = []\n",
    "human_final_dataset_lines = []\n",
    "all_best_lines = open('best-lines-21/all-best-lines-cs-21.txt', 'r')\n",
    "lines = all_best_lines.readlines()\n",
    "for i in range(1,1003):\n",
    "    line_choice_mt = []\n",
    "    line_choice_human = []\n",
    "    for line in lines:\n",
    "        line = line.strip()\n",
    "        line_parts = line.split(',')\n",
    "        if line_parts[0] == str(i):\n",
    "            if line_parts[1] == 'translator-B':\n",
    "                continue\n",
    "            elif line_parts[1] == 'translator-A':\n",
    "                line_choice_human.append(line)\n",
    "            else:\n",
    "                line_choice_mt.append(line)\n",
    "    if len(line_choice_mt) != 0:\n",
    "        rand_sent = random.choice(line_choice_mt)\n",
    "        mt_final_dataset_lines.append(rand_sent)\n",
    "    \n",
    "    if len(line_choice_human) != 0:\n",
    "        rand_sent = random.choice(line_choice_human)\n",
    "        human_final_dataset_lines.append(rand_sent)\n",
    "        \n",
    "print(len(mt_final_dataset_lines))\n",
    "print(len(human_final_dataset_lines))"
   ]
  },
  {
   "cell_type": "code",
   "execution_count": 30,
   "metadata": {},
   "outputs": [],
   "source": [
    "sys_sents_mt = {}\n",
    "for line in mt_final_dataset_lines:\n",
    "    line = line.strip()\n",
    "    line_parts = line.split(',')\n",
    "    if line_parts[1] in sys_sents_mt.keys():\n",
    "        sys_sents_mt[line_parts[1]].append(int(line_parts[0]))\n",
    "    else:\n",
    "        sys_sents_mt[line_parts[1]] = [int(line_parts[0])]\n",
    "\n",
    "sys_sents_human = {}\n",
    "for line in human_final_dataset_lines:\n",
    "    line = line.strip()\n",
    "    line_parts = line.split(',')\n",
    "    if line_parts[1] in sys_sents_human.keys():\n",
    "        sys_sents_human[line_parts[1]].append(int(line_parts[0]))\n",
    "    else:\n",
    "        sys_sents_human[line_parts[1]] = [int(line_parts[0])]"
   ]
  },
  {
   "cell_type": "code",
   "execution_count": 32,
   "metadata": {},
   "outputs": [],
   "source": [
    "final_mt_dataset = open('best-lines-21/mt-dataset-21-cs.txt', 'w', encoding='UTF-8')\n",
    "final_human_dataset = open('best-lines-21/human-dataset-21-cs.txt', 'w', encoding='UTF-8')\n",
    "\n",
    "\n",
    "for sys in sys_sents_mt.keys():\n",
    "    sys_output = open(f'en-cs-21/newstest2021.en-cs.hyp.{sys}.cs.txt', 'r', encoding='UTF-8')\n",
    "    sents = sys_output.readlines()\n",
    "    for num in sys_sents_mt[sys]:\n",
    "        sent = sents[num-1].strip()\n",
    "        sent = sent + '|mt'\n",
    "        final_mt_dataset.write(\"%s\\n\" % sent)\n",
    "\n",
    "for sys in sys_sents_human.keys():\n",
    "    if sys == 'translator-A':\n",
    "        sys_name = 'ref-A'\n",
    "    sys_output = open(f'en-cs-21/newstest2021.en-cs.ref.{sys_name}.cs.txt', 'r', encoding='UTF-8')\n",
    "    sents = sys_output.readlines()\n",
    "    for num in sys_sents_human[sys]:\n",
    "        sent = sents[num-1].strip()\n",
    "        sent = sent + '|human'\n",
    "        final_human_dataset.write(\"%s\\n\" % sent)\n",
    "        \n",
    "final_mt_dataset.close()\n",
    "final_human_dataset.close()"
   ]
  }
 ],
 "metadata": {
  "kernelspec": {
   "display_name": "VENV_DIR",
   "language": "python",
   "name": "python3"
  },
  "language_info": {
   "codemirror_mode": {
    "name": "ipython",
    "version": 3
   },
   "file_extension": ".py",
   "mimetype": "text/x-python",
   "name": "python",
   "nbconvert_exporter": "python",
   "pygments_lexer": "ipython3",
   "version": "3.9.10"
  }
 },
 "nbformat": 4,
 "nbformat_minor": 2
}
