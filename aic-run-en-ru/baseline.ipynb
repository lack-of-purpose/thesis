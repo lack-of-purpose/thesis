{
 "cells": [
  {
   "cell_type": "code",
   "execution_count": 19,
   "metadata": {},
   "outputs": [],
   "source": [
    "import pandas as pd\n",
    "import csv\n",
    "from sklearn.feature_extraction.text import TfidfVectorizer\n",
    "\n",
    "df_train = pd.read_csv('C:/Users/lack_/Study/Thesis/thesis/aic-run-en-ru/tgt/training--90_100_80_100-tgt.csv', sep='|', quoting=csv.QUOTE_NONE, encoding='utf-8')\n",
    "df_test = pd.read_csv('C:/Users/lack_/Study/Thesis/thesis/aic-run-en-ru/tgt/test--90_100_80_100-tgt.csv', sep='|', encoding='utf-8')\n",
    "df_val = pd.read_csv('C:/Users/lack_/Study/Thesis/thesis/aic-run-en-ru/tgt/validation--90_100_80_100-tgt.csv', sep='|', encoding='utf-8')\n",
    "\n",
    "df_train['labels'] = df_train['labels'].map({'mt': 0, 'human': 1})\n",
    "df_test['labels'] = df_test['labels'].map({'mt': 0, 'human': 1})\n",
    "df_val['labels'] = df_val['labels'].map({'mt': 0, 'human': 1})\n",
    "\n",
    "vectorizer = TfidfVectorizer()\n",
    "X_train = vectorizer.fit_transform(df_train['sentence'])\n",
    "X_test = vectorizer.transform(df_test['sentence'])\n",
    "\n",
    "y_train, y_test = df_train['labels'], df_test['labels']\n"
   ]
  },
  {
   "cell_type": "code",
   "execution_count": 20,
   "metadata": {},
   "outputs": [],
   "source": [
    "from sklearn.linear_model import LogisticRegression\n",
    "\n",
    "clf = LogisticRegression(max_iter=300)\n",
    "clf.fit(X_train, y_train)\n",
    "pred = clf.predict(X_test)"
   ]
  },
  {
   "cell_type": "code",
   "execution_count": 21,
   "metadata": {},
   "outputs": [
    {
     "name": "stdout",
     "output_type": "stream",
     "text": [
      "0.5120625088157339\n",
      "0.8221390124034637\n"
     ]
    }
   ],
   "source": [
    "from sklearn.metrics import roc_auc_score, accuracy_score\n",
    "\n",
    "print(roc_auc_score(y_test, pred))\n",
    "print(accuracy_score(y_test, pred))"
   ]
  },
  {
   "cell_type": "markdown",
   "metadata": {},
   "source": [
    "Baseline results\n",
    "\n",
    "60-70: 0.5165\n",
    "70-80: 0.5370\n",
    "80-90: 0.5214\n",
    "90-100: 0.5120"
   ]
  }
 ],
 "metadata": {
  "kernelspec": {
   "display_name": "Python 3",
   "language": "python",
   "name": "python3"
  },
  "language_info": {
   "codemirror_mode": {
    "name": "ipython",
    "version": 3
   },
   "file_extension": ".py",
   "mimetype": "text/x-python",
   "name": "python",
   "nbconvert_exporter": "python",
   "pygments_lexer": "ipython3",
   "version": "3.11.2"
  }
 },
 "nbformat": 4,
 "nbformat_minor": 2
}
